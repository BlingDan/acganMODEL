{
 "cells": [
  {
   "cell_type": "code",
   "execution_count": 21,
   "id": "c32ef3b9-0f73-4afe-9d16-052453f42e8c",
   "metadata": {
    "pycharm": {
     "name": "#%%\n"
    }
   },
   "outputs": [],
   "source": [
    "import tensorflow as tf\n",
    "import matplotlib.pyplot as plt\n",
    "from sklearn.metrics import confusion_matrix\n",
    "import os\n",
    "\n",
    "%matplotlib inline\n",
    "import numpy as np\n",
    "import glob\n",
    "from pprint import pprint\n",
    "from tensorflow.keras.preprocessing.image import *\n",
    "\n",
    "physical_device = tf.config.experimental.list_physical_devices(\"GPU\")\n",
    "tf.config.experimental.set_memory_growth(physical_device[0], True)"
   ]
  },
  {
   "cell_type": "code",
   "execution_count": 22,
   "id": "a8f4db41-e7a5-4fb9-a6c7-404ad31f83de",
   "metadata": {
    "pycharm": {
     "name": "#%%\n"
    }
   },
   "outputs": [],
   "source": [
    "# discriminator_path = '/root/训练完成/discriminator_model.h5'\n",
    "discriminator_path = '/root/model_weight/discriminator_model516Daynight.h5'\n",
    "# generator_path = '/root/训练完成/generator_model.h5'\n",
    "test_image_path = '/root/images/original_images/test'\n",
    "\n",
    "# 定义类别标签\n",
    "# class_labels = []\n",
    "# for subdir in os.listdir(test_image_path):\n",
    "#         class_labels.append(subdir)\n",
    "\n",
    "# print(class_labels)"
   ]
  },
  {
   "cell_type": "code",
   "execution_count": 23,
   "id": "30e711f7-b3bf-45f1-be8e-5ace55cf4016",
   "metadata": {
    "pycharm": {
     "name": "#%%\n"
    }
   },
   "outputs": [],
   "source": [
    "def load_images(path):\n",
    "    img = tf.io.read_file(path) # 读取路径下的文件\n",
    "    img = tf.image.decode_jpeg(img) # 对读取到的图像解码之后就是正常的图像了\n",
    "    img = tf.image.resize(img, (128,128)) # 把图像resize到80*80\n",
    "    img = tf.image.random_crop(img, [112, 112, 3]) # 把图像随机裁剪成64*64\n",
    "    # img = tf.image.random_flip_left_right(img) # 把图像左右翻转\n",
    "    img = img / 127.5 - 1\n",
    "    return img\n",
    "\n",
    "# 使用内部函数评估\n",
    "def evaluateTestData(modelWeightPath, testDirPath):\n",
    "    # 加载保存的模型参数\n",
    "    model = tf.keras.models.load_model(modelWeightPath)\n",
    "\n",
    "    # 定义测试集路径\n",
    "    test_dir = testDirPath\n",
    "    \n",
    "    # 归一化\n",
    "    datagen = tf.keras.preprocessing.image.ImageDataGenerator(rescale=1./255)\n",
    "\n",
    "    # 构建测试数据集\n",
    "    test_dataset = datagen.flow_from_directory(\n",
    "        test_dir,\n",
    "        target_size=(112,112),\n",
    "        batch_size=32,\n",
    "        class_mode='categorical',\n",
    "        shuffle=False\n",
    "    )\n",
    "\n",
    "    # 对测试集进行预测\n",
    "    predictions = model.predict(test_dataset)\n",
    "\n",
    "    print(\"已获得predictions\")\n",
    "    # 获取预测结果和真实标签\n",
    "    predicted_labels = tf.argmax(predictions[1], axis=1)\n",
    "    true_labels = test_dataset.labels\n",
    "\n",
    "    # TODO:这里的Prediction是一个矩阵，代表着预测概率，因为训练集和测试集的class类可能不同会不会导致结果反了\n",
    "    # 计算准确率\n",
    "    accuracy = tf.reduce_mean(tf.cast(tf.equal(predicted_labels, true_labels), tf.float32))\n",
    "    print('Accuracy:', accuracy.numpy())\n",
    "\n",
    "   \n",
    "    # 计算混淆矩阵\n",
    "    confusion_mat = confusion_matrix(true_labels, predicted_labels)\n",
    "\n",
    "    # 绘制混淆矩阵\n",
    "    plt.figure(figsize=(10, 8))\n",
    "    plt.imshow(confusion_mat, cmap='Blues')\n",
    "    plt.title('Confusion Matrix')\n",
    "    plt.xlabel('Predicted Labels')\n",
    "    plt.ylabel('True Labels')\n",
    "    plt.colorbar()\n",
    "\n",
    "    # 设置标签\n",
    "    labels = test_dataset.class_indices.keys()\n",
    "    tick_marks = np.arange(len(labels))\n",
    "    plt.xticks(tick_marks, labels, rotation=45)\n",
    "    plt.yticks(tick_marks, labels)\n",
    "\n",
    "    # 在矩阵方格中添加数值标签\n",
    "    thresh = confusion_mat.max() / 2\n",
    "    for i in range(confusion_mat.shape[0]):\n",
    "        for j in range(confusion_mat.shape[1]):\n",
    "            plt.text(j, i, format(confusion_mat[i, j], 'd'),\n",
    "                     ha=\"center\", va=\"center\",\n",
    "                     color=\"white\" if confusion_mat[i, j] > thresh else \"black\")\n",
    "\n",
    "    plt.tight_layout()\n",
    "    plt.show()"
   ]
  },
  {
   "cell_type": "code",
   "execution_count": 24,
   "id": "3d7e8281-76e5-4123-8d1a-713b753d9abe",
   "metadata": {
    "pycharm": {
     "name": "#%%\n"
    }
   },
   "outputs": [
    {
     "name": "stdout",
     "output_type": "stream",
     "text": [
      "WARNING:tensorflow:No training configuration found in the save file, so the model was *not* compiled. Compile it manually.\n",
      "Found 399 images belonging to 3 classes.\n",
      "已获得predictions\n",
      "Accuracy: 0.49624062\n"
     ]
    },
    {
     "data": {
      "image/png": "[encoded data removed]",
      "text/plain": [
       "<Figure size 720x576 with 2 Axes>"
      ]
     },
     "metadata": {
      "needs_background": "light"
     },
     "output_type": "display_data"
    }
   ],
   "source": [
    "evaluateTestData(discriminator_path, test_image_path)\n"
   ]
  },
  {
   "cell_type": "code",
   "execution_count": null,
   "id": "0075c4ff-7b0b-4e9d-b068-19d5d0890d1c",
   "metadata": {
    "pycharm": {
     "name": "#%%\n"
    }
   },
   "outputs": [],
   "source": []
  },
  {
   "cell_type": "code",
   "execution_count": null,
   "id": "b55754f3-4ff7-4f6d-a7f0-3258e158c551",
   "metadata": {
    "pycharm": {
     "name": "#%%\n"
    }
   },
   "outputs": [],
   "source": []
  },
  {
   "cell_type": "code",
   "execution_count": null,
   "id": "fa5882df-102a-4af0-917f-d516996c2542",
   "metadata": {
    "pycharm": {
     "name": "#%%\n"
    }
   },
   "outputs": [],
   "source": []
  }
 ],
 "metadata": {
  "kernelspec": {
   "display_name": "Python 3 (ipykernel)",
   "language": "python",
   "name": "python3"
  },
  "language_info": {
   "codemirror_mode": {
    "name": "ipython",
    "version": 3
   },
   "file_extension": ".py",
   "mimetype": "text/x-python",
   "name": "python",
   "nbconvert_exporter": "python",
   "pygments_lexer": "ipython3",
   "version": "3.8.10"
  }
 },
 "nbformat": 4,
 "nbformat_minor": 5
}